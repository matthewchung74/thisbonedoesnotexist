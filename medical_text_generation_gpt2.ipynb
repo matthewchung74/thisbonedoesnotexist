{
  "nbformat": 4,
  "nbformat_minor": 0,
  "metadata": {
    "colab": {
      "name": "medical_text_generation_gpt2.ipynb",
      "provenance": [],
      "collapsed_sections": [],
      "authorship_tag": "ABX9TyNibrMsiSymnrYBixkovGM4",
      "include_colab_link": true
    },
    "kernelspec": {
      "name": "python3",
      "display_name": "Python 3"
    },
    "language_info": {
      "name": "python"
    },
    "gpuClass": "standard",
    "accelerator": "GPU"
  },
  "cells": [
    {
      "cell_type": "markdown",
      "metadata": {
        "id": "view-in-github",
        "colab_type": "text"
      },
      "source": [
        "<a href=\"https://colab.research.google.com/github/matthewchung74/thisbonedoesnotexist/blob/main/medical_text_generation_gpt2.ipynb\" target=\"_parent\"><img src=\"https://colab.research.google.com/assets/colab-badge.svg\" alt=\"Open In Colab\"/></a>"
      ]
    },
    {
      "cell_type": "markdown",
      "source": [
        "based on the work of https://huggingface.co/pucpr/gpt2-bio-pt"
      ],
      "metadata": {
        "id": "LnzMY6AYxa70"
      }
    },
    {
      "cell_type": "code",
      "execution_count": null,
      "metadata": {
        "id": "5MfOTRtENRx_"
      },
      "outputs": [],
      "source": [
        "!pip install -q datasets transformers[sentencepiece] sacrebleu sacremoses\n",
        "!pip install -q gputil\n",
        "!pip install -q psutil\n",
        "!pip install -q humanize\n",
        "!pip install -q sentence_transformers"
      ]
    },
    {
      "cell_type": "code",
      "source": [
        "from transformers import MarianMTModel, MarianTokenizer\n",
        "import torch\n",
        "import re\n",
        "\n",
        "device = \"cuda:0\" if torch.cuda.is_available() else \"cpu\"\n",
        "\n",
        "def translate(input_text):\n",
        "  print(f'using device')\n",
        "  # https://stackoverflow.com/questions/52208602/regex-for-splitting-into-sentences-ignoring-decimal-numbers-as-part-of-the-spli\n",
        "  sub_str = '[\\.\\!]+(?!\\d)\\s*|\\n+\\s*'\n",
        "  input_text_arr = re.split(sub_str, input_text)\n",
        "  output_text_arr = []\n",
        "\n",
        "  src_text_arr = [f\">>por<< {text}\" for text in input_text_arr]\n",
        "\n",
        "  model_name = \"Helsinki-NLP/opus-mt-roa-en\"\n",
        "  tokenizer = MarianTokenizer.from_pretrained(model_name)\n",
        "  ['>>zlm_Latn<<', '>>mfe<<', '>>hat<<', '>>pap<<', '>>ast<<', '>>cat<<', '>>ind<<', '>>glg<<', '>>wln<<', '>>spa<<', '>>fra<<', '>>ron<<', '>>por<<', '>>ita<<', '>>oci<<', '>>arg<<', '>>min<<']\n",
        "\n",
        "  model = MarianMTModel.from_pretrained(model_name).to(device)\n",
        "\n",
        "  for src_text in src_text_arr:\n",
        "    if src_text.strip() == '>>por<<':\n",
        "      continue\n",
        "\n",
        "    # print(f'source {src_text}')\n",
        "    src_text = src_text.replace(\" cm\", \" centimeter\")\n",
        "    model.generate(**tokenizer(src_text, return_tensors=\"pt\", padding=True).to(device))\n",
        "    translated = model.generate(**tokenizer(src_text, return_tensors=\"pt\", padding=True).to(device)).to(device)\n",
        "    # print(f\"using model device {model.device} translated device {translated.device}\")\n",
        "    output_text = [tokenizer.decode(t, skip_special_tokens=True) for t in translated]\n",
        "    # print(f'translated {output_text}')\n",
        "    if output_text is not None and len(output_text) > 0:\n",
        "      output_text_arr.append(output_text[0])\n",
        "\n",
        "  return '. '.join(output_text_arr)"
      ],
      "metadata": {
        "id": "x87RnRYEP3NK"
      },
      "execution_count": null,
      "outputs": []
    },
    {
      "cell_type": "code",
      "source": [
        "from transformers import pipeline\n",
        "\n",
        "chef = pipeline('text-generation',model=\"pucpr/gpt2-bio-pt\", tokenizer=\"pucpr/gpt2-bio-pt\")\n",
        "\n",
        "reports = []\n",
        "for i in range(100):\n",
        "  reports.append(translate(chef('vista frontal e lateral do tórax')[0]['generated_text']))\n",
        "\n",
        "reports"
      ],
      "metadata": {
        "id": "pmqkdFKOP3QV"
      },
      "execution_count": null,
      "outputs": []
    },
    {
      "cell_type": "code",
      "source": [
        "import re\n",
        "\n",
        "new_reports = []\n",
        "consequitivedots = re.compile(r'\\.{3,}')\n",
        "\n",
        "for report in reports:\n",
        "  new_reports.append(consequitivedots.sub('', report))"
      ],
      "metadata": {
        "id": "YJKv730AwHqF"
      },
      "execution_count": null,
      "outputs": []
    },
    {
      "cell_type": "code",
      "source": [
        "import numpy as np\n",
        "np.savetxt('reports.csv', reports, delimiter=',', fmt='%s')"
      ],
      "metadata": {
        "id": "AxXlUDrckcPl"
      },
      "execution_count": null,
      "outputs": []
    },
    {
      "cell_type": "code",
      "source": [
        "from google.colab import files\n",
        "files.download('reports.csv') "
      ],
      "metadata": {
        "id": "25jWbrprm7VP"
      },
      "execution_count": null,
      "outputs": []
    },
    {
      "cell_type": "code",
      "source": [
        ""
      ],
      "metadata": {
        "id": "KOQXllE-vZxh"
      },
      "execution_count": null,
      "outputs": []
    }
  ]
}